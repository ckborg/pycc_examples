{
 "cells": [
  {
   "cell_type": "code",
   "execution_count": 142,
   "metadata": {},
   "outputs": [],
   "source": [
    "from os import environ\n",
    "from citrination_client import CitrinationClient\n",
    "from pymatgen.ext.matproj import MPRester"
   ]
  },
  {
   "cell_type": "code",
   "execution_count": 143,
   "metadata": {},
   "outputs": [],
   "source": [
    "# establish client (api key stored as enviornment variable)\n",
    "client = CitrinationClient(environ['CITRINATION_API_KEY'], 'https://citrination.com')"
   ]
  },
  {
   "cell_type": "code",
   "execution_count": 153,
   "metadata": {},
   "outputs": [
    {
     "name": "stdout",
     "output_type": "stream",
     "text": [
      "3.479973877551021 0.66095997960242\n"
     ]
    }
   ],
   "source": [
    "# example predition\n",
    "resp = client.models.predict('5128', [{'formula':'GaN'},])\n",
    "prediction = resp[0].get_value('Property Band gap')\n",
    "print(prediction.value, prediction.loss)"
   ]
  },
  {
   "cell_type": "code",
   "execution_count": 146,
   "metadata": {},
   "outputs": [
    {
     "name": "stderr",
     "output_type": "stream",
     "text": [
      "/Users/cborg/miniconda3/lib/python3.6/site-packages/pymatgen/core/periodic_table.py:409: UserWarning: No electronegativity for He. Setting to NaN. This has no physical meaning, and is mainly done to avoid errors caused by the code expecting a float.\n",
      "  % self.symbol)\n",
      "/Users/cborg/miniconda3/lib/python3.6/site-packages/pymatgen/core/periodic_table.py:409: UserWarning: No electronegativity for Ne. Setting to NaN. This has no physical meaning, and is mainly done to avoid errors caused by the code expecting a float.\n",
      "  % self.symbol)\n",
      "/Users/cborg/miniconda3/lib/python3.6/site-packages/pymatgen/core/periodic_table.py:409: UserWarning: No electronegativity for Ar. Setting to NaN. This has no physical meaning, and is mainly done to avoid errors caused by the code expecting a float.\n",
      "  % self.symbol)\n"
     ]
    }
   ],
   "source": [
    "# Generate some sample data\n",
    "results = MPRester(environ['MP_API_KEY']).query(\"**O3\", ['pretty_formula', 'band_gap'])"
   ]
  },
  {
   "cell_type": "code",
   "execution_count": 147,
   "metadata": {},
   "outputs": [],
   "source": [
    "# format sample data and run batch prediction\n",
    "inputs = [{'formula':r['pretty_formula']} for r in results]\n",
    "resp = client.models.predict('5128', inputs)"
   ]
  },
  {
   "cell_type": "code",
   "execution_count": 148,
   "metadata": {},
   "outputs": [],
   "source": [
    "# store predicted values\n",
    "predictions = [resp[index].get_value('Property Band gap') for index, i in enumerate(resp)]\n",
    "prediction_values = [p.value for p in predictions]\n",
    "prediction_errors = [p.loss for p in predictions]\n",
    "mp_bandgaps = [r['band_gap'] for r in results]"
   ]
  },
  {
   "cell_type": "code",
   "execution_count": 154,
   "metadata": {},
   "outputs": [
    {
     "data": {
      "image/png": "[encoded data removed]",
      "text/plain": [
       "<Figure size 432x288 with 1 Axes>"
      ]
     },
     "metadata": {},
     "output_type": "display_data"
    }
   ],
   "source": [
    "# plot predicted values with errors against MP calculated values\n",
    "import matplotlib.pyplot as plt\n",
    "from scipy.stats.stats import pearsonr\n",
    "\n",
    "plt.errorbar(mp_bandgaps[0:100], prediction_values[0:100], prediction_errors[0:100], fmt='o');\n",
    "plt.show()"
   ]
  },
  {
   "cell_type": "code",
   "execution_count": 155,
   "metadata": {},
   "outputs": [
    {
     "name": "stdout",
     "output_type": "stream",
     "text": [
      "(0.40140519241199996, 1.0590203417472304e-68)\n"
     ]
    }
   ],
   "source": [
    "# check to see how well predicted values match MP calculated bandgaps\n",
    "corr = pearsonr(prediction_values, mp_bandgaps)\n",
    "print(corr)"
   ]
  }
 ],
 "metadata": {
  "kernelspec": {
   "display_name": "Python 3",
   "language": "python",
   "name": "python3"
  },
  "language_info": {
   "codemirror_mode": {
    "name": "ipython",
    "version": 3
   },
   "file_extension": ".py",
   "mimetype": "text/x-python",
   "name": "python",
   "nbconvert_exporter": "python",
   "pygments_lexer": "ipython3",
   "version": "3.6.4"
  }
 },
 "nbformat": 4,
 "nbformat_minor": 2
}
